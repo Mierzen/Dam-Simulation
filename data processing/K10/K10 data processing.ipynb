{
 "cells": [
  {
   "cell_type": "code",
   "execution_count": null,
   "metadata": {
    "collapsed": true
   },
   "outputs": [],
   "source": [
    "import matplotlib.dates as mdates\n",
    "import matplotlib.pyplot as plt\n",
    "import numpy as np\n",
    "import pandas as pd\n",
    "import scipy.stats as stats\n",
    "import seaborn as sns\n",
    "from datetime import timedelta\n",
    "from matplotlib.ticker import MaxNLocator"
   ]
  },
  {
   "cell_type": "code",
   "execution_count": null,
   "metadata": {
    "collapsed": true
   },
   "outputs": [],
   "source": [
    "# plotting parameters\n",
    "figure_size = (6.25984252, 4.1456693) # = 15.9, 10.53 cm\n",
    "\n",
    "def rgb(rgb_255_tuple):\n",
    "    return tuple(v/255 for v in rgb_255_tuple)\n",
    "\n",
    "colour_op = rgb((13, 103, 53))\n",
    "colour_s = rgb((254, 205, 8))\n",
    "colour_p = rgb((237, 29, 36))\n",
    "\n",
    "sns.set_palette('muted')"
   ]
  },
  {
   "cell_type": "markdown",
   "metadata": {},
   "source": [
    "# Raw data processing"
   ]
  },
  {
   "cell_type": "markdown",
   "metadata": {},
   "source": [
    "# Inflow profile calculation"
   ]
  },
  {
   "cell_type": "code",
   "execution_count": null,
   "metadata": {
    "collapsed": true
   },
   "outputs": [],
   "source": [
    "df = pd.read_csv('K10 data 1min_2017-09-26.pdi.gz')\n",
    "\n",
    "# also make forward filled\n",
    "time_interval = pd.Timedelta(minutes=1)\n",
    "df = df.pivot_table(values='Value', columns='TagName', index=(pd.to_datetime(df['Date'].str.cat(df['Time'], sep=' ')) - time_interval))\n",
    "df.index.name = 'DateTime'\n",
    "\n",
    "df['Time_30'] = df.index.floor('30min').time\n",
    "\n",
    "df['EskomDayOfWeek'] = df.index.dayofweek + 1\n",
    "# replace holidays with Eskom days\n",
    "h_path = '..\\holidays.csv'\n",
    "holidays = np.genfromtxt(h_path,  dtype=np.dtype('M'), delimiter=',', usecols=0)\n",
    "holidays = list(holidays)\n",
    "holidays_numbers = np.genfromtxt(h_path, dtype=int, delimiter=',', usecols=1)\n",
    "holidays_numbers = list(holidays_numbers)\n",
    "for h_n, h_d in zip(holidays_numbers, holidays):\n",
    "    df.loc[df.index.date==h_d,'EskomDayOfWeek'] = h_n\n",
    "# drop weekends\n",
    "df = df[df['EskomDayOfWeek'] <= 5]\n",
    "df.drop('EskomDayOfWeek', axis=1)\n",
    "\n",
    "df.head(5)"
   ]
  },
  {
   "cell_type": "code",
   "execution_count": null,
   "metadata": {
    "collapsed": true
   },
   "outputs": [],
   "source": [
    "#df.drop(['KDCE_S10_12PMP00_01ILT#502.FA_PV', 'KDCE_S10_27PMP00_01ILT#504.FA_PV'], axis=1, inplace=True) #broken dam sensor\n",
    "\n",
    "df = df.rename(columns = {'KDCE_S10_12PMP00_00ILT#502.FA_PV': '12L D1'})\n",
    "df['12L D2'] = df[['KDCE_S10_12PMP00_00ILT#503.FA_PV', 'KDCE_S10_12PMP00_01ILT#503.FA_PV']].mean(axis=1)\n",
    "\n",
    "df = df.rename(columns = {'KDCE_S10_27PMP00_00ILT#504.FA_PV': '27L D1'})\n",
    "df['27L D2'] = df[['KDCE_S10_27PMP00_00ILT#505.FA_PV', 'KDCE_S10_27PMP00_01ILT#505.FA_PV']].mean(axis=1)\n",
    "\n",
    "df.drop(['KDCE_S10_12PMP00_00ILT#503.FA_PV', 'KDCE_S10_12PMP00_01ILT#503.FA_PV',\n",
    "         'KDCE_S10_27PMP00_00ILT#505.FA_PV', 'KDCE_S10_27PMP00_01ILT#505.FA_PV'], axis=1, inplace=True)\n",
    "\n",
    "df['12L Level'] = df[['12L D1', '12L D2']].mean(axis=1)\n",
    "df['27L Level'] = df[['27L D1', '27L D2']].mean(axis=1)\n",
    "\n",
    "df.drop(['12L D1', '12L D2', '27L D1', '27L D2'], axis=1, inplace=True)\n",
    "\n",
    "df.head(5)"
   ]
  },
  {
   "cell_type": "code",
   "execution_count": null,
   "metadata": {
    "collapsed": true
   },
   "outputs": [],
   "source": [
    "status_col_dict = {}\n",
    "for c in df.columns:\n",
    "    if '_Machine.FA_RF' in c: # pump status\n",
    "        item = c.split('_')[2].split('PMP')\n",
    "        level = item[0] + 'L'\n",
    "        pump_num = 'P' + item[1][1]\n",
    "        status_col_dict[c] = level + ' ' + pump_num\n",
    "        \n",
    "df = df.rename(columns = status_col_dict)"
   ]
  },
  {
   "cell_type": "code",
   "execution_count": null,
   "metadata": {
    "collapsed": true
   },
   "outputs": [],
   "source": [
    "df.head(5)"
   ]
  },
  {
   "cell_type": "code",
   "execution_count": null,
   "metadata": {
    "collapsed": true
   },
   "outputs": [],
   "source": [
    "df = df.rename(columns = {'12L P2': '12L P1',\n",
    "                          '12L P3': '12L P2',\n",
    "                          '12L P4': '12L P3',\n",
    "                          '12L P6': '12L P4',\n",
    "                          '12L P7': '12L P5',\n",
    "                          '27L P2': '27L P1',\n",
    "                          '27L P3': '27L P2',\n",
    "                          '27L P4': '27L P3',\n",
    "                          '27L P5': '27L P4'})\n",
    "df.head(5)"
   ]
  },
  {
   "cell_type": "markdown",
   "metadata": {},
   "source": [
    "## Process selected data"
   ]
  },
  {
   "cell_type": "code",
   "execution_count": null,
   "metadata": {
    "collapsed": true
   },
   "outputs": [],
   "source": [
    "def calculate_inflows(level_name, pump_flowrates, capacity, feeding_level_name=None):\n",
    "    # feeding_level_name is the level feeding this level\n",
    "    \n",
    "    number_of_pumps = len(pump_flowrates)\n",
    "\n",
    "    calc_pump_flows = [np.nan]\n",
    "    calc_inflows = [np.nan]\n",
    "\n",
    "    for i in range(1, len(df.index)):\n",
    "        pump_status = {}\n",
    "        for j,_ in enumerate(pump_flowrates):\n",
    "            pump_str = 'P' + str(j+1)\n",
    "            pump_status[pump_str] = df[level_name + ' ' + pump_str].values[i]\n",
    "        \n",
    "        l_new = df[level_name + ' Level'].values[i]\n",
    "        l_old = df[level_name + ' Level'].values[i-1]\n",
    "        pump_flow_from_prev_lev = 0 if feeding_level_name is None else df[feeding_level_name + ' PumpFlow'].values[i]\n",
    "        \n",
    "        if np.isnan([v for k,v in pump_status.items()] + [l_new] + [l_old] + [pump_flow_from_prev_lev]).any():\n",
    "            ans_pumpflow = np.nan\n",
    "            ans_inflow = np.nan\n",
    "\n",
    "        delta_level = l_new - l_old\n",
    "        if delta_level != 0:\n",
    "            ans_outflow_pumps = 0\n",
    "            for ps, pf in zip(pump_status.items(), pump_flowrates):\n",
    "                ans_outflow_pumps += ps[1] * pf\n",
    "                \n",
    "            ans_inflow = ((l_new - l_old) / 100 * capacity) / 60 + ans_outflow_pumps - pump_flow_from_prev_lev\n",
    "        else:\n",
    "            ans_outflow_pumps = np.nan\n",
    "            ans_inflow = np.nan\n",
    "\n",
    "        calc_pump_flows.append(ans_outflow_pumps)\n",
    "        calc_inflows.append(ans_inflow)\n",
    "\n",
    "    df[level_name + ' PumpFlow'] = calc_pump_flows\n",
    "    df[level_name + ' Inflow'] = calc_inflows"
   ]
  },
  {
   "cell_type": "code",
   "execution_count": null,
   "metadata": {
    "collapsed": true
   },
   "outputs": [],
   "source": [
    "calculate_inflows('27L', [236.1]*4, 3000000)\n",
    "calculate_inflows('12L', [194.6]*5, 3000000, '27L')"
   ]
  },
  {
   "cell_type": "code",
   "execution_count": null,
   "metadata": {
    "collapsed": true
   },
   "outputs": [],
   "source": [
    "df.head(5)"
   ]
  },
  {
   "cell_type": "markdown",
   "metadata": {},
   "source": [
    "# Export data for use in simulation"
   ]
  },
  {
   "cell_type": "markdown",
   "metadata": {},
   "source": [
    "## Inflow profile"
   ]
  },
  {
   "cell_type": "code",
   "execution_count": null,
   "metadata": {
    "collapsed": true
   },
   "outputs": [],
   "source": [
    "df2 = df.copy()\n",
    "\n",
    "date_start = '2016-10-25'\n",
    "date_end = '2016-10-26'\n",
    "\n",
    "df2 = df2[(df2.index>=date_start) & (df2.index<date_end)]\n",
    "\n",
    "inflow_profiles = []\n",
    "overall_day_completeness_count = 0\n",
    "overall_day_completeness_max = 0\n",
    "overall_completeness_count = 0\n",
    "overall_completeness_max = 0\n",
    "for l in ['27L', '12L']:\n",
    "    grouped = df2.set_index('Time_30')[l + ' Inflow'].groupby('Time_30')\n",
    "    \n",
    "    grouped_mean = grouped.mean()\n",
    "    inflow_profiles.append(grouped_mean)\n",
    "    \n",
    "    print('{} completeness: {:6.2f}% → {:6.2f}%'.format(l, grouped.count().sum()/48/30*100, grouped_mean.count()/48*100))#grouped.count()/30\n",
    "    overall_day_completeness_count += grouped.count().sum()\n",
    "    overall_day_completeness_max += 48*30\n",
    "    overall_completeness_count += grouped_mean.count()\n",
    "    overall_completeness_max += 48\n",
    "print('                   ------   -------')\n",
    "print('All completenes:  {:6.2f}% → {:6.2f}%'.format(overall_day_completeness_count/overall_day_completeness_max*100, overall_completeness_count/overall_completeness_max*100))\n",
    "    \n",
    "pd.DataFrame(inflow_profiles).T.to_csv('..\\..\\simulations\\K10\\input\\K10_dam_inflow_profiles.csv.gz', compression='gzip')"
   ]
  },
  {
   "cell_type": "markdown",
   "metadata": {},
   "source": [
    "## Data for verification of the simulation"
   ]
  },
  {
   "cell_type": "code",
   "execution_count": null,
   "metadata": {
    "collapsed": true
   },
   "outputs": [],
   "source": [
    "df_real = pd.read_csv('K10 data 1s 10-25_2017-09-26_pivot.csv.gz')\n",
    "df_real = df_real.set_index('DateTime')\n",
    "df_real.index = pd.to_datetime(df_real.index)\n",
    "df_real.head(5)"
   ]
  },
  {
   "cell_type": "code",
   "execution_count": null,
   "metadata": {
    "collapsed": true
   },
   "outputs": [],
   "source": [
    "df_real['12L Status'] = df_real[[col for col in df_real.columns if ('12PMP' in col and 'Machine.FA_RF' in col)]].sum(axis=1)\n",
    "df_real['27L Status'] = df_real[[col for col in df_real.columns if ('27PMP' in col and 'Machine.FA_RF' in col)]].sum(axis=1)\n",
    "df_real.drop([col for col in df_real.columns if 'Machine.FA_RF' in col], axis=1, inplace=True)\n",
    "\n",
    "#df_real.drop(['KDCE_S10_12PMP00_01ILT#502.FA_PV', 'KDCE_S10_27PMP00_01ILT#504.FA_PV'], axis=1, inplace=True) #broken dam sensor\n",
    "df_real = df_real.rename(columns = {'KDCE_S10_12PMP00_00ILT#502.FA_PV': '12L D1'})\n",
    "df_real['12L D2'] = df_real[['KDCE_S10_12PMP00_00ILT#503.FA_PV', 'KDCE_S10_12PMP00_01ILT#503.FA_PV']].mean(axis=1)\n",
    "\n",
    "df_real = df_real.rename(columns = {'KDCE_S10_27PMP00_00ILT#504.FA_PV': '27L D1'})\n",
    "df_real['27L D2'] = df_real[['KDCE_S10_27PMP00_00ILT#505.FA_PV', 'KDCE_S10_27PMP00_01ILT#505.FA_PV']].mean(axis=1)\n",
    "\n",
    "df_real.drop(['KDCE_S10_12PMP00_00ILT#503.FA_PV', 'KDCE_S10_12PMP00_01ILT#503.FA_PV',\n",
    "         'KDCE_S10_27PMP00_00ILT#505.FA_PV', 'KDCE_S10_27PMP00_01ILT#505.FA_PV'], axis=1, inplace=True)\n",
    "\n",
    "\n",
    "df_real['12L Total water'] = 3*1000000/100* df_real[['12L D1', '12L D2']].sum(axis=1)\n",
    "df_real['27L Total water'] = 3*1000000/100* df_real[['27L D1', '27L D2']].sum(axis=1)\n",
    "df_real['12L Level'] = df_real['12L Total water']/(2*3*1000000) * 100\n",
    "df_real['27L Level'] = df_real['27L Total water']/(2*3*1000000) * 100\n",
    "\n",
    "df_real.dropna(axis=1, how='any', inplace=True)\n",
    "df_real.head(5)"
   ]
  },
  {
   "cell_type": "code",
   "execution_count": null,
   "metadata": {
    "collapsed": true
   },
   "outputs": [],
   "source": [
    "date_range_start = '2016-10-25'\n",
    "date_range_end = '2016-10-26'\n",
    "df_real2 = df_real.ix[date_range_start:date_range_end]\n",
    "df_real2[['12L Level','27L Level']].plot()\n",
    "df_real2[['12L Status','27L Status']].plot()\n",
    "plt.show()\n",
    "plt.close('all')"
   ]
  },
  {
   "cell_type": "markdown",
   "metadata": {},
   "source": [
    "#### Save simulation testing data"
   ]
  },
  {
   "cell_type": "code",
   "execution_count": null,
   "metadata": {
    "collapsed": true
   },
   "outputs": [],
   "source": [
    "df_real2[['12L Status', '27L Status', '12L Level', '27L Level']].to_csv('..\\..\\simulations\\K10\\input\\K10_data_for_verification.csv.gz', compression='gzip')"
   ]
  },
  {
   "cell_type": "markdown",
   "metadata": {},
   "source": [
    "# Now perform the simulation in verification mode"
   ]
  },
  {
   "cell_type": "markdown",
   "metadata": {},
   "source": [
    " **If the simulation outputs are reasonably \"the same\" as the real data, the simulation is \"correct\"**\n",
    " \n",
    " Run the simulation in verification_mode using initial values for dam level and following pump status instead of scheduler"
   ]
  },
  {
   "cell_type": "code",
   "execution_count": null,
   "metadata": {
    "collapsed": true
   },
   "outputs": [],
   "source": [
    "df_sim = pd.read_csv('..\\..\\simulations\\K10\\output\\K10_simulation_data_export_verification.csv.gz')\n",
    "df_sim['time_clean'] = pd.to_datetime(df_sim['seconds'], unit='s') + timedelta(days=17099)\n",
    "df_sim.head(5)"
   ]
  },
  {
   "cell_type": "code",
   "execution_count": null,
   "metadata": {
    "collapsed": true
   },
   "outputs": [],
   "source": [
    "def rmse(real, sim):\n",
    "    return np.sqrt(((real - sim) ** 2).mean())\n",
    "\n",
    "def r2(x, y):\n",
    "    return stats.pearsonr(x,y)[0] ** 2"
   ]
  },
  {
   "cell_type": "markdown",
   "metadata": {},
   "source": [
    "## Comparison of simulation and actual data"
   ]
  },
  {
   "cell_type": "markdown",
   "metadata": {},
   "source": [
    "### 27L pump status"
   ]
  },
  {
   "cell_type": "code",
   "execution_count": null,
   "metadata": {
    "collapsed": true
   },
   "outputs": [],
   "source": [
    "x = pd.to_datetime(df_real2.index.values).time\n",
    "y1 = df_real2['27L Status'].values\n",
    "y2 = df_sim['27L Status'].values\n",
    "\n",
    "print('R squared = ', r2(y1, y2))\n",
    "print('RMSE = ', rmse(y1, y2))"
   ]
  },
  {
   "cell_type": "code",
   "execution_count": null,
   "metadata": {
    "collapsed": true,
    "scrolled": false
   },
   "outputs": [],
   "source": [
    "fig, ax1 = plt.subplots(figsize=(figure_size[0], figure_size[1]/1.5), dpi=1200)\n",
    "\n",
    "x = df_sim['time_clean']\n",
    "\n",
    "ax1.plot(x, df_real2['27L Status'], marker=None, label=\"Actual data\", zorder=10)\n",
    "ax1.plot(x, df_sim['27L Status'], marker=None, label=\"Simulation data\", zorder=11, color=sns.color_palette('muted')[2])\n",
    "\n",
    "ax1.set_xlabel('Time of day')\n",
    "ax1.set_ylabel('Number of pumps running')\n",
    "ax1.set_ylim([0, 4])\n",
    "ax1.yaxis.set_major_locator(MaxNLocator(integer=True))\n",
    "\n",
    "ax1.axvspan('2016-10-25 00:00:00','2016-10-25 05:59:59', alpha=.25, color=colour_op, zorder=0)\n",
    "ax1.axvspan('2016-10-25 06:00:00','2016-10-25 06:59:59', alpha=.25, color=colour_s, zorder=0)\n",
    "ax1.axvspan('2016-10-25 07:00:00','2016-10-25 09:59:59', alpha=.25, color=colour_p, zorder=0)\n",
    "ax1.axvspan('2016-10-25 10:00:00','2016-10-25 17:59:59', alpha=.25, color=colour_s, zorder=0)\n",
    "ax1.axvspan('2016-10-25 18:00:00','2016-10-25 19:59:59', alpha=.25, color=colour_p, zorder=0)\n",
    "ax1.axvspan('2016-10-25 20:00:00','2016-10-25 21:59:59', alpha=.25, color=colour_s, zorder=0)\n",
    "ax1.axvspan('2016-10-25 22:00:00','2016-10-25 23:59:59', alpha=.25, color=colour_op, zorder=0)\n",
    "\n",
    "ax1.xaxis.set_major_locator(mdates.HourLocator())\n",
    "ax1.xaxis.set_minor_locator(mdates.MinuteLocator(byminute=30))\n",
    "ax1.xaxis.set_major_formatter(mdates.DateFormatter('%H:%M'))\n",
    "fig.autofmt_xdate(rotation=90)\n",
    "ax1.set_xlim((min(x),max(x)))\n",
    "\n",
    "ax1.grid(which='major', alpha=0.5)\n",
    "#ax1.grid(which='minor', alpha=0.25)\n",
    "\n",
    "plt.legend(bbox_to_anchor=(0., 1.02, 1., .102), loc=3, ncol=2, mode=\"expand\", borderaxespad=0.)\n",
    "\n",
    "fig.tight_layout()\n",
    "plt.show()\n",
    "fig.savefig('output/k10_verification_27l_status.png', bbox_inches='tight')\n",
    "plt.close('all')"
   ]
  },
  {
   "cell_type": "markdown",
   "metadata": {},
   "source": [
    "### 27L dam level"
   ]
  },
  {
   "cell_type": "code",
   "execution_count": null,
   "metadata": {
    "collapsed": true
   },
   "outputs": [],
   "source": [
    "x = pd.to_datetime(df_real2.index.values).time\n",
    "y1 = df_real2['27L Level'].values\n",
    "y2 = df_sim['27L Level'].values\n",
    "\n",
    "print('R squared = ', r2(y1, y2))\n",
    "print('RMSE = ', rmse(y1, y2))"
   ]
  },
  {
   "cell_type": "code",
   "execution_count": null,
   "metadata": {
    "collapsed": true
   },
   "outputs": [],
   "source": [
    "fig, ax1 = plt.subplots(figsize=figure_size, dpi=1200)\n",
    "\n",
    "x = df_sim['time_clean']\n",
    "\n",
    "ax1.plot(x, df_real2['27L Level'], marker=None, label=\"Actual data\", zorder=10)\n",
    "ax1.plot(x, df_sim['27L Level'], marker=None, label=\"Simulation data\", zorder=11, color=sns.color_palette('muted')[2])\n",
    "\n",
    "ax1.set_xlabel('Time of day')\n",
    "ax1.set_ylabel('Dam level (%)')\n",
    "ax1.set_ylim([0, 100])\n",
    "\n",
    "ax1.axvspan('2016-10-25 00:00:00','2016-10-25 05:59:59', alpha=.25, color=colour_op, zorder=0)\n",
    "ax1.axvspan('2016-10-25 06:00:00','2016-10-25 06:59:59', alpha=.25, color=colour_s, zorder=0)\n",
    "ax1.axvspan('2016-10-25 07:00:00','2016-10-25 09:59:59', alpha=.25, color=colour_p, zorder=0)\n",
    "ax1.axvspan('2016-10-25 10:00:00','2016-10-25 17:59:59', alpha=.25, color=colour_s, zorder=0)\n",
    "ax1.axvspan('2016-10-25 18:00:00','2016-10-25 19:59:59', alpha=.25, color=colour_p, zorder=0)\n",
    "ax1.axvspan('2016-10-25 20:00:00','2016-10-25 21:59:59', alpha=.25, color=colour_s, zorder=0)\n",
    "ax1.axvspan('2016-10-25 22:00:00','2016-10-25 23:59:59', alpha=.25, color=colour_op, zorder=0)\n",
    "\n",
    "ax1.xaxis.set_major_locator(mdates.HourLocator())\n",
    "ax1.xaxis.set_minor_locator(mdates.MinuteLocator(byminute=30))\n",
    "ax1.xaxis.set_major_formatter(mdates.DateFormatter('%H:%M'))\n",
    "fig.autofmt_xdate(rotation=90)\n",
    "ax1.set_xlim((min(x),max(x)))\n",
    "\n",
    "ax1.grid(which='major', alpha=0.5)\n",
    "#ax1.grid(which='minor', alpha=0.25)\n",
    "\n",
    "plt.legend(bbox_to_anchor=(0., 1.02, 1., .102), loc=3, ncol=2, mode=\"expand\", borderaxespad=0.)\n",
    "\n",
    "fig.tight_layout()\n",
    "plt.show()\n",
    "fig.savefig('output/k10_verification_27l_level.png', bbox_inches='tight')\n",
    "plt.close('all')"
   ]
  },
  {
   "cell_type": "markdown",
   "metadata": {},
   "source": [
    "### 12L pump status"
   ]
  },
  {
   "cell_type": "code",
   "execution_count": null,
   "metadata": {
    "collapsed": true
   },
   "outputs": [],
   "source": [
    "x = pd.to_datetime(df_real2.index.values).time\n",
    "y1 = df_real2['12L Status'].values\n",
    "y2 = df_sim['12L Status'].values\n",
    "\n",
    "print('R squared = ', r2(y1, y2))\n",
    "print('RMSE = ', rmse(y1, y2))"
   ]
  },
  {
   "cell_type": "code",
   "execution_count": null,
   "metadata": {
    "collapsed": true
   },
   "outputs": [],
   "source": [
    "fig, ax1 = plt.subplots(figsize=(figure_size[0], figure_size[1]/1.5), dpi=1200)\n",
    "\n",
    "x = df_sim['time_clean']\n",
    "\n",
    "ax1.plot(x, df_real2['12L Status'], marker=None, label=\"Actual data\", zorder=10)\n",
    "ax1.plot(x, df_sim['12L Status'], marker=None, label=\"Simulation data\", zorder=11, color=sns.color_palette('muted')[2])\n",
    "\n",
    "ax1.set_xlabel('Time of day')\n",
    "ax1.set_ylabel('Number of pumps running')\n",
    "ax1.set_ylim([0, 4])\n",
    "ax1.yaxis.set_major_locator(MaxNLocator(integer=True))\n",
    "\n",
    "ax1.axvspan('2016-10-25 00:00:00','2016-10-25 05:59:59', alpha=.25, color=colour_op, zorder=0)\n",
    "ax1.axvspan('2016-10-25 06:00:00','2016-10-25 06:59:59', alpha=.25, color=colour_s, zorder=0)\n",
    "ax1.axvspan('2016-10-25 07:00:00','2016-10-25 09:59:59', alpha=.25, color=colour_p, zorder=0)\n",
    "ax1.axvspan('2016-10-25 10:00:00','2016-10-25 17:59:59', alpha=.25, color=colour_s, zorder=0)\n",
    "ax1.axvspan('2016-10-25 18:00:00','2016-10-25 19:59:59', alpha=.25, color=colour_p, zorder=0)\n",
    "ax1.axvspan('2016-10-25 20:00:00','2016-10-25 21:59:59', alpha=.25, color=colour_s, zorder=0)\n",
    "ax1.axvspan('2016-10-25 22:00:00','2016-10-25 23:59:59', alpha=.25, color=colour_op, zorder=0)\n",
    "\n",
    "ax1.xaxis.set_major_locator(mdates.HourLocator())\n",
    "ax1.xaxis.set_minor_locator(mdates.MinuteLocator(byminute=30))\n",
    "ax1.xaxis.set_major_formatter(mdates.DateFormatter('%H:%M'))\n",
    "fig.autofmt_xdate(rotation=90)\n",
    "ax1.set_xlim((min(x),max(x)))\n",
    "\n",
    "ax1.grid(which='major', alpha=0.5)\n",
    "#ax1.grid(which='minor', alpha=0.25)\n",
    "\n",
    "plt.legend(bbox_to_anchor=(0., 1.02, 1., .102), loc=3, ncol=2, mode=\"expand\", borderaxespad=0.)\n",
    "\n",
    "fig.tight_layout()\n",
    "plt.show()\n",
    "fig.savefig('output/k10_verification_12l_status.png', bbox_inches='tight')\n",
    "plt.close('all')"
   ]
  },
  {
   "cell_type": "markdown",
   "metadata": {},
   "source": [
    "### 12L dam level"
   ]
  },
  {
   "cell_type": "code",
   "execution_count": null,
   "metadata": {
    "collapsed": true
   },
   "outputs": [],
   "source": [
    "x = pd.to_datetime(df_real2.index.values).time\n",
    "y1 = df_real2['12L Level'].values\n",
    "y2 = df_sim['12L Level'].values\n",
    "\n",
    "print('R squared = ', r2(y1, y2))\n",
    "print('RMSE = ', rmse(y1, y2))"
   ]
  },
  {
   "cell_type": "code",
   "execution_count": null,
   "metadata": {
    "collapsed": true
   },
   "outputs": [],
   "source": [
    "fig, ax1 = plt.subplots(figsize=figure_size, dpi=1200)\n",
    "\n",
    "x = df_sim['time_clean']\n",
    "\n",
    "ax1.plot(x, df_real2['12L Level'], marker=None, label=\"Actual data\", zorder=10)\n",
    "ax1.plot(x, df_sim['12L Level'], marker=None, label=\"Simulation data\", zorder=11, color=sns.color_palette('muted')[2])\n",
    "\n",
    "ax1.set_xlabel('Time of day')\n",
    "ax1.set_ylabel('Dam level (%)')\n",
    "ax1.set_ylim([0, 100])\n",
    "\n",
    "ax1.axvspan('2016-10-25 00:00:00','2016-10-25 05:59:59', alpha=.25, color=colour_op, zorder=0)\n",
    "ax1.axvspan('2016-10-25 06:00:00','2016-10-25 06:59:59', alpha=.25, color=colour_s, zorder=0)\n",
    "ax1.axvspan('2016-10-25 07:00:00','2016-10-25 09:59:59', alpha=.25, color=colour_p, zorder=0)\n",
    "ax1.axvspan('2016-10-25 10:00:00','2016-10-25 17:59:59', alpha=.25, color=colour_s, zorder=0)\n",
    "ax1.axvspan('2016-10-25 18:00:00','2016-10-25 19:59:59', alpha=.25, color=colour_p, zorder=0)\n",
    "ax1.axvspan('2016-10-25 20:00:00','2016-10-25 21:59:59', alpha=.25, color=colour_s, zorder=0)\n",
    "ax1.axvspan('2016-10-25 22:00:00','2016-10-25 23:59:59', alpha=.25, color=colour_op, zorder=0)\n",
    "\n",
    "ax1.xaxis.set_major_locator(mdates.HourLocator())\n",
    "ax1.xaxis.set_minor_locator(mdates.MinuteLocator(byminute=30))\n",
    "ax1.xaxis.set_major_formatter(mdates.DateFormatter('%H:%M'))\n",
    "fig.autofmt_xdate(rotation=90)\n",
    "ax1.set_xlim((min(x),max(x)))\n",
    "\n",
    "ax1.grid(which='major', alpha=0.5)\n",
    "#ax1.grid(which='minor', alpha=0.25)\n",
    "\n",
    "plt.legend(bbox_to_anchor=(0., 1.02, 1., .102), loc=3, ncol=2, mode=\"expand\", borderaxespad=0.)\n",
    "\n",
    "fig.tight_layout()\n",
    "plt.show()\n",
    "fig.savefig('output/k10_verification_12l_level.png', bbox_inches='tight')\n",
    "plt.close('all')"
   ]
  },
  {
   "cell_type": "markdown",
   "metadata": {},
   "source": [
    "# Processing of x-factored simulation data"
   ]
  },
  {
   "cell_type": "markdown",
   "metadata": {},
   "source": [
    "## 1-factor"
   ]
  },
  {
   "cell_type": "code",
   "execution_count": null,
   "metadata": {
    "collapsed": true
   },
   "outputs": [],
   "source": [
    "df = pd.read_csv('..\\..\\simulations\\K10\\output\\K10_simulation_data_export_1-factor.csv.gz')\n",
    "df['time_clean'] = pd.to_datetime(df['seconds'], unit='s')\n",
    "df.head(5)"
   ]
  },
  {
   "cell_type": "markdown",
   "metadata": {},
   "source": [
    "### Plot dam level and status"
   ]
  },
  {
   "cell_type": "code",
   "execution_count": null,
   "metadata": {
    "collapsed": true
   },
   "outputs": [],
   "source": [
    "level_name = '27L'\n",
    "\n",
    "x = df['time_clean']\n",
    "\n",
    "fig, ax1 = plt.subplots(figsize=figure_size, dpi=1200)\n",
    "#fig.patch.set_facecolor('grey')\n",
    "\n",
    "lines1 = ax1.plot(x, df[level_name + ' Level'])\n",
    "\n",
    "ax1.axvspan('1970-01-01 00:00:00','1970-01-01 05:59:59', alpha=.25, color=colour_op, zorder=0)\n",
    "ax1.axvspan('1970-01-01 06:00:00','1970-01-01 06:59:59', alpha=.25, color=colour_s, zorder=0)\n",
    "ax1.axvspan('1970-01-01 07:00:00','1970-01-01 09:59:59', alpha=.25, color=colour_p, zorder=0)\n",
    "ax1.axvspan('1970-01-01 10:00:00','1970-01-01 17:59:59', alpha=.25, color=colour_s, zorder=0)\n",
    "ax1.axvspan('1970-01-01 18:00:00','1970-01-01 19:59:59', alpha=.25, color=colour_p, zorder=0)\n",
    "ax1.axvspan('1970-01-01 20:00:00','1970-01-01 21:59:59', alpha=.25, color=colour_s, zorder=0)\n",
    "ax1.axvspan('1970-01-01 22:00:00','1970-01-01 23:59:59', alpha=.25, color=colour_op, zorder=0)\n",
    "\n",
    "ax2 = ax1.twinx()\n",
    "lines2 = ax2.plot(x, df[level_name + ' Status'], '--')\n",
    "\n",
    "ax1.set_xlabel('Time of day')\n",
    "ax1.set_ylabel('Dam level (%)')\n",
    "ax1.set_ylim([0, 100])\n",
    "ax2.set_ylabel('Number of pumps running')\n",
    "ax2.yaxis.set_major_locator(MaxNLocator(integer=True))\n",
    "ax1.yaxis.set_ticks(np.arange(0, 101, 10))\n",
    "ax1.xaxis.set_major_locator(mdates.HourLocator())\n",
    "ax1.xaxis.set_minor_locator(mdates.MinuteLocator(byminute=30))\n",
    "ax1.xaxis.set_major_formatter(mdates.DateFormatter('%H:%M'))\n",
    "fig.autofmt_xdate(rotation=90)\n",
    "ax1.set_xlim((min(x), max(x)))\n",
    "\n",
    "ax1.grid(which='major', alpha=0.5)\n",
    "#ax1.grid(which='minor', alpha=0.25)\n",
    "#ax2.grid(which='major', alpha=0.5)\n",
    "#ax1.minorticks_on()\n",
    "\n",
    "p = lines1 + lines2\n",
    "plt.legend(p, [level_name + ' dam level', level_name + ' pump status'],\n",
    "          bbox_to_anchor=(0., 1.02, 1., .102), loc=3, ncol=2, mode=\"expand\", borderaxespad=0.)\n",
    "#plt.legend(p,[p_.get_label() for subp in p for p_ in subp])\n",
    "\n",
    "#plt.legend(lines1, ('a','b'), loc='best')\n",
    "#plt.legend(lines2, ('c','d'), loc='best')\n",
    "\n",
    "fig.tight_layout()\n",
    "plt.show()\n",
    "fig.savefig('output/k10_' + level_name + '_1_level_and_status.png', bbox_inches='tight')\n",
    "plt.close('all')"
   ]
  },
  {
   "cell_type": "code",
   "execution_count": null,
   "metadata": {
    "collapsed": true
   },
   "outputs": [],
   "source": [
    "level_name = '12L'\n",
    "\n",
    "x = df['time_clean']\n",
    "\n",
    "fig, ax1 = plt.subplots(figsize=figure_size, dpi=1200)\n",
    "#fig.patch.set_facecolor('grey')\n",
    "\n",
    "lines1 = ax1.plot(x, df[level_name + ' Level'])\n",
    "\n",
    "ax1.axvspan('1970-01-01 00:00:00','1970-01-01 05:59:59', alpha=.25, color=colour_op, zorder=0)\n",
    "ax1.axvspan('1970-01-01 06:00:00','1970-01-01 06:59:59', alpha=.25, color=colour_s, zorder=0)\n",
    "ax1.axvspan('1970-01-01 07:00:00','1970-01-01 09:59:59', alpha=.25, color=colour_p, zorder=0)\n",
    "ax1.axvspan('1970-01-01 10:00:00','1970-01-01 17:59:59', alpha=.25, color=colour_s, zorder=0)\n",
    "ax1.axvspan('1970-01-01 18:00:00','1970-01-01 19:59:59', alpha=.25, color=colour_p, zorder=0)\n",
    "ax1.axvspan('1970-01-01 20:00:00','1970-01-01 21:59:59', alpha=.25, color=colour_s, zorder=0)\n",
    "ax1.axvspan('1970-01-01 22:00:00','1970-01-01 23:59:59', alpha=.25, color=colour_op, zorder=0)\n",
    "\n",
    "ax2 = ax1.twinx()\n",
    "lines2 = ax2.plot(x, df[level_name + ' Status'], '--')\n",
    "\n",
    "ax1.set_xlabel('Time of day')\n",
    "ax1.set_ylabel('Dam level (%)')\n",
    "ax1.set_ylim([0, 100])\n",
    "ax2.set_ylabel('Number of pumps running')\n",
    "ax2.yaxis.set_major_locator(MaxNLocator(integer=True))\n",
    "ax1.yaxis.set_ticks(np.arange(0, 101, 10))\n",
    "ax1.xaxis.set_major_locator(mdates.HourLocator())\n",
    "ax1.xaxis.set_minor_locator(mdates.MinuteLocator(byminute=30))\n",
    "ax1.xaxis.set_major_formatter(mdates.DateFormatter('%H:%M'))\n",
    "fig.autofmt_xdate(rotation=90)\n",
    "ax1.set_xlim((min(x), max(x)))\n",
    "\n",
    "ax1.grid(which='major', alpha=0.5)\n",
    "#ax1.grid(which='minor', alpha=0.25)\n",
    "#ax2.grid(which='major', alpha=0.5)\n",
    "#ax1.minorticks_on()\n",
    "\n",
    "p = lines1 + lines2\n",
    "plt.legend(p, [level_name + ' dam level', level_name + ' pump status'],\n",
    "          bbox_to_anchor=(0., 1.02, 1., .102), loc=3, ncol=2, mode=\"expand\", borderaxespad=0.)\n",
    "#plt.legend(p,[p_.get_label() for subp in p for p_ in subp])\n",
    "\n",
    "#plt.legend(lines1, ('a','b'), loc='best')\n",
    "#plt.legend(lines2, ('c','d'), loc='best')\n",
    "\n",
    "fig.tight_layout()\n",
    "plt.show()\n",
    "fig.savefig('output/k10_' + level_name + '_1_level_and_status.png', bbox_inches='tight')\n",
    "plt.close('all')"
   ]
  },
  {
   "cell_type": "markdown",
   "metadata": {},
   "source": [
    "### Plot power"
   ]
  },
  {
   "cell_type": "markdown",
   "metadata": {},
   "source": [
    "#### Raw data"
   ]
  },
  {
   "cell_type": "code",
   "execution_count": null,
   "metadata": {
    "collapsed": true
   },
   "outputs": [],
   "source": [
    "fig, ax1 = plt.subplots(figsize=figure_size, dpi=1200)\n",
    "#fig.patch.set_facecolor('grey')\n",
    "\n",
    "ax1.plot(df['time_clean'], df['Pump system total power'], marker=None, label='Power (raw data, 1 second)', zorder=10)\n",
    "ax1.set_xlabel('Time of day')\n",
    "ax1.set_ylabel('Power consumption (kW)')\n",
    "#ax1.set_ylim([0, 4000])\n",
    "\n",
    "ax1.axvspan('1970-01-01 00:00:00','1970-01-01 05:59:59', alpha=.25, color=colour_op, zorder=0)\n",
    "ax1.axvspan('1970-01-01 06:00:00','1970-01-01 06:59:59', alpha=.25, color=colour_s, zorder=0)\n",
    "ax1.axvspan('1970-01-01 07:00:00','1970-01-01 09:59:59', alpha=.25, color=colour_p, zorder=0)\n",
    "ax1.axvspan('1970-01-01 10:00:00','1970-01-01 17:59:59', alpha=.25, color=colour_s, zorder=0)\n",
    "ax1.axvspan('1970-01-01 18:00:00','1970-01-01 19:59:59', alpha=.25, color=colour_p, zorder=0)\n",
    "ax1.axvspan('1970-01-01 20:00:00','1970-01-01 21:59:59', alpha=.25, color=colour_s, zorder=0)\n",
    "ax1.axvspan('1970-01-01 22:00:00','1970-01-01 23:59:59', alpha=.25, color=colour_op, zorder=0)\n",
    "\n",
    "ax1.xaxis.set_major_locator(mdates.HourLocator())\n",
    "ax1.xaxis.set_minor_locator(mdates.MinuteLocator(byminute=30))\n",
    "ax1.xaxis.set_major_formatter(mdates.DateFormatter('%H:%M'))\n",
    "fig.autofmt_xdate(rotation=90)\n",
    "ax1.set_xlim((min(x),max(x)))\n",
    "\n",
    "ax1.grid(which='major', alpha=0.5)\n",
    "#ax1.grid(which='minor', alpha=0.25)\n",
    "\n",
    "plt.legend(bbox_to_anchor=(0., 1.02, 1., .102), loc=3, ncol=2, mode=\"expand\", borderaxespad=0.)\n",
    "\n",
    "fig.tight_layout()\n",
    "plt.show()\n",
    "fig.savefig('output/k10_1_power_raw.png', bbox_inches='tight')\n",
    "plt.close('all')"
   ]
  },
  {
   "cell_type": "markdown",
   "metadata": {},
   "source": [
    "#### Resampled data"
   ]
  },
  {
   "cell_type": "code",
   "execution_count": null,
   "metadata": {
    "collapsed": true
   },
   "outputs": [],
   "source": [
    "resampled = pd.DataFrame()\n",
    "resampled[\"total_30_minute\"] = df.set_index('time_clean')['Pump system total power'].resample('30T').mean()\n",
    "resampled.to_csv('output/K10_resampled_power_1_factor.csv')\n",
    "\n",
    "fig, ax1 = plt.subplots(figsize=figure_size, dpi=1200)\n",
    "#fig.patch.set_facecolor('grey')\n",
    "\n",
    "x = resampled.index\n",
    "y = resampled['total_30_minute']\n",
    "\n",
    "ax1.plot(x,y, 'x', label=\"Power (data points resampled to 30 minutes)\", zorder=4)\n",
    "ax1.plot(x,y, '--', label=\"Power (resampled, line plot)\", zorder=2)\n",
    "ax1.plot(x,y, drawstyle='steps-post', label=\"Power (resampled, step plot)\", zorder=3)\n",
    "ax1.set_xlabel('Time of day')\n",
    "ax1.set_ylabel('Power consumption (kW)')\n",
    "#ax1.set_ylim([0, 4000])\n",
    "\n",
    "ax1.axvspan('1970-01-01 00:00:00','1970-01-01 05:59:59', alpha=.25, color=colour_op, zorder=0)\n",
    "ax1.axvspan('1970-01-01 06:00:00','1970-01-01 06:59:59', alpha=.25, color=colour_s, zorder=0)\n",
    "ax1.axvspan('1970-01-01 07:00:00','1970-01-01 09:59:59', alpha=.25, color=colour_p, zorder=0)\n",
    "ax1.axvspan('1970-01-01 10:00:00','1970-01-01 17:59:59', alpha=.25, color=colour_s, zorder=0)\n",
    "ax1.axvspan('1970-01-01 18:00:00','1970-01-01 19:59:59', alpha=.25, color=colour_p, zorder=0)\n",
    "ax1.axvspan('1970-01-01 20:00:00','1970-01-01 21:59:59', alpha=.25, color=colour_s, zorder=0)\n",
    "ax1.axvspan('1970-01-01 22:00:00','1970-01-01 23:59:59', alpha=.25, color=colour_op, zorder=0)\n",
    "\n",
    "ax1.xaxis.set_major_locator(mdates.HourLocator())\n",
    "ax1.xaxis.set_minor_locator(mdates.MinuteLocator(byminute=30))\n",
    "ax1.xaxis.set_major_formatter(mdates.DateFormatter('%H:%M'))\n",
    "fig.autofmt_xdate(rotation=90)\n",
    "ax1.set_xlim((min(x),max(x)))\n",
    "\n",
    "ax1.grid(which='major', alpha=0.5)\n",
    "#ax1.grid(which='minor', alpha=0.25)\n",
    "\n",
    "plt.legend(bbox_to_anchor=(0., 1.02, 1., .102), loc=3, ncol=1, mode=\"expand\", borderaxespad=0.)\n",
    "\n",
    "fig.tight_layout()\n",
    "plt.show()\n",
    "fig.savefig('output/k10_1_power_resampled_all.png', bbox_inches='tight')\n",
    "plt.close('all')"
   ]
  },
  {
   "cell_type": "code",
   "execution_count": null,
   "metadata": {
    "collapsed": true
   },
   "outputs": [],
   "source": [
    "fig, ax1 = plt.subplots(figsize=figure_size, dpi=1200)\n",
    "#fig.patch.set_facecolor('grey')\n",
    "\n",
    "x = resampled.index\n",
    "y = resampled['total_30_minute']\n",
    "\n",
    "ax1.plot(x,y, drawstyle='steps-post', label=\"Power (resampled, step plot)\", zorder=3)\n",
    "ax1.set_xlabel('Time of day')\n",
    "ax1.set_ylabel('Power consumption (kW)')\n",
    "#ax1.set_ylim([0, 4000])\n",
    "\n",
    "ax1.axvspan('1970-01-01 00:00:00','1970-01-01 05:59:59', alpha=.25, color=colour_op, zorder=0)\n",
    "ax1.axvspan('1970-01-01 06:00:00','1970-01-01 06:59:59', alpha=.25, color=colour_s, zorder=0)\n",
    "ax1.axvspan('1970-01-01 07:00:00','1970-01-01 09:59:59', alpha=.25, color=colour_p, zorder=0)\n",
    "ax1.axvspan('1970-01-01 10:00:00','1970-01-01 17:59:59', alpha=.25, color=colour_s, zorder=0)\n",
    "ax1.axvspan('1970-01-01 18:00:00','1970-01-01 19:59:59', alpha=.25, color=colour_p, zorder=0)\n",
    "ax1.axvspan('1970-01-01 20:00:00','1970-01-01 21:59:59', alpha=.25, color=colour_s, zorder=0)\n",
    "ax1.axvspan('1970-01-01 22:00:00','1970-01-01 23:59:59', alpha=.25, color=colour_op, zorder=0)\n",
    "\n",
    "ax1.xaxis.set_major_locator(mdates.HourLocator())\n",
    "ax1.xaxis.set_minor_locator(mdates.MinuteLocator(byminute=30))\n",
    "ax1.xaxis.set_major_formatter(mdates.DateFormatter('%H:%M'))\n",
    "fig.autofmt_xdate(rotation=90)\n",
    "ax1.set_xlim((min(x),max(x)))\n",
    "\n",
    "ax1.grid(which='major', alpha=0.5)\n",
    "#ax1.grid(which='minor', alpha=0.25)\n",
    "\n",
    "plt.legend(bbox_to_anchor=(0., 1.02, 1., .102), loc=3, ncol=1, mode=\"expand\", borderaxespad=0.)\n",
    "\n",
    "fig.tight_layout()\n",
    "plt.show()\n",
    "fig.savefig('output/k10_1_power_resampled.png', bbox_inches='tight')\n",
    "plt.close('all')"
   ]
  },
  {
   "cell_type": "markdown",
   "metadata": {},
   "source": [
    "## 2-factor"
   ]
  },
  {
   "cell_type": "code",
   "execution_count": null,
   "metadata": {
    "collapsed": true
   },
   "outputs": [],
   "source": [
    "df = pd.read_csv('..\\..\\simulations\\K10\\output\\K10_simulation_data_export_2-factor.csv.gz')\n",
    "df['time_clean'] = pd.to_datetime(df['seconds'], unit='s')\n",
    "df.head(5)"
   ]
  },
  {
   "cell_type": "markdown",
   "metadata": {},
   "source": [
    "### Plot dam level and status"
   ]
  },
  {
   "cell_type": "code",
   "execution_count": null,
   "metadata": {
    "collapsed": true
   },
   "outputs": [],
   "source": [
    "level_name = '27L'\n",
    "\n",
    "x = df['time_clean']\n",
    "\n",
    "fig, ax1 = plt.subplots(figsize=figure_size, dpi=1200)\n",
    "#fig.patch.set_facecolor('grey')\n",
    "\n",
    "lines1 = ax1.plot(x, df[level_name + ' Level'])\n",
    "\n",
    "ax1.axvspan('1970-01-01 00:00:00','1970-01-01 05:59:59', alpha=.25, color=colour_op, zorder=0)\n",
    "ax1.axvspan('1970-01-01 06:00:00','1970-01-01 06:59:59', alpha=.25, color=colour_s, zorder=0)\n",
    "ax1.axvspan('1970-01-01 07:00:00','1970-01-01 09:59:59', alpha=.25, color=colour_p, zorder=0)\n",
    "ax1.axvspan('1970-01-01 10:00:00','1970-01-01 17:59:59', alpha=.25, color=colour_s, zorder=0)\n",
    "ax1.axvspan('1970-01-01 18:00:00','1970-01-01 19:59:59', alpha=.25, color=colour_p, zorder=0)\n",
    "ax1.axvspan('1970-01-01 20:00:00','1970-01-01 21:59:59', alpha=.25, color=colour_s, zorder=0)\n",
    "ax1.axvspan('1970-01-01 22:00:00','1970-01-01 23:59:59', alpha=.25, color=colour_op, zorder=0)\n",
    "\n",
    "ax2 = ax1.twinx()\n",
    "lines2 = ax2.plot(x, df[level_name + ' Status'], '--')\n",
    "\n",
    "ax1.set_xlabel('Time of day')\n",
    "ax1.set_ylabel('Dam level (%)')\n",
    "ax1.set_ylim([0, 100])\n",
    "ax2.set_ylabel('Number of pumps running')\n",
    "ax2.yaxis.set_major_locator(MaxNLocator(integer=True))\n",
    "ax1.yaxis.set_ticks(np.arange(0, 101, 10))\n",
    "ax1.xaxis.set_major_locator(mdates.HourLocator())\n",
    "ax1.xaxis.set_minor_locator(mdates.MinuteLocator(byminute=30))\n",
    "ax1.xaxis.set_major_formatter(mdates.DateFormatter('%H:%M'))\n",
    "fig.autofmt_xdate(rotation=90)\n",
    "ax1.set_xlim((min(x), max(x)))\n",
    "\n",
    "ax1.grid(which='major', alpha=0.5)\n",
    "#ax1.grid(which='minor', alpha=0.25)\n",
    "#ax2.grid(which='major', alpha=0.5)\n",
    "#ax1.minorticks_on()\n",
    "\n",
    "p = lines1 + lines2\n",
    "plt.legend(p, [level_name + ' dam level', level_name + ' pump status'],\n",
    "          bbox_to_anchor=(0., 1.02, 1., .102), loc=3, ncol=2, mode=\"expand\", borderaxespad=0.)\n",
    "#plt.legend(p,[p_.get_label() for subp in p for p_ in subp])\n",
    "\n",
    "#plt.legend(lines1, ('a','b'), loc='best')\n",
    "#plt.legend(lines2, ('c','d'), loc='best')\n",
    "\n",
    "fig.tight_layout()\n",
    "plt.show()\n",
    "fig.savefig('output/k10_' + level_name + '_2_level_and_status.png', bbox_inches='tight')\n",
    "plt.close('all')"
   ]
  },
  {
   "cell_type": "code",
   "execution_count": null,
   "metadata": {
    "collapsed": true
   },
   "outputs": [],
   "source": [
    "level_name = '12L'\n",
    "\n",
    "x = df['time_clean']\n",
    "\n",
    "fig, ax1 = plt.subplots(figsize=figure_size, dpi=1200)\n",
    "#fig.patch.set_facecolor('grey')\n",
    "\n",
    "lines1 = ax1.plot(x, df[level_name + ' Level'])\n",
    "\n",
    "ax1.axvspan('1970-01-01 00:00:00','1970-01-01 05:59:59', alpha=.25, color=colour_op, zorder=0)\n",
    "ax1.axvspan('1970-01-01 06:00:00','1970-01-01 06:59:59', alpha=.25, color=colour_s, zorder=0)\n",
    "ax1.axvspan('1970-01-01 07:00:00','1970-01-01 09:59:59', alpha=.25, color=colour_p, zorder=0)\n",
    "ax1.axvspan('1970-01-01 10:00:00','1970-01-01 17:59:59', alpha=.25, color=colour_s, zorder=0)\n",
    "ax1.axvspan('1970-01-01 18:00:00','1970-01-01 19:59:59', alpha=.25, color=colour_p, zorder=0)\n",
    "ax1.axvspan('1970-01-01 20:00:00','1970-01-01 21:59:59', alpha=.25, color=colour_s, zorder=0)\n",
    "ax1.axvspan('1970-01-01 22:00:00','1970-01-01 23:59:59', alpha=.25, color=colour_op, zorder=0)\n",
    "\n",
    "ax2 = ax1.twinx()\n",
    "lines2 = ax2.plot(x, df[level_name + ' Status'], '--')\n",
    "\n",
    "ax1.set_xlabel('Time of day')\n",
    "ax1.set_ylabel('Dam level (%)')\n",
    "ax1.set_ylim([0, 100])\n",
    "ax2.set_ylabel('Number of pumps running')\n",
    "ax2.yaxis.set_major_locator(MaxNLocator(integer=True))\n",
    "ax1.yaxis.set_ticks(np.arange(0, 101, 10))\n",
    "ax1.xaxis.set_major_locator(mdates.HourLocator())\n",
    "ax1.xaxis.set_minor_locator(mdates.MinuteLocator(byminute=30))\n",
    "ax1.xaxis.set_major_formatter(mdates.DateFormatter('%H:%M'))\n",
    "fig.autofmt_xdate(rotation=90)\n",
    "ax1.set_xlim((min(x), max(x)))\n",
    "\n",
    "ax1.grid(which='major', alpha=0.5)\n",
    "#ax1.grid(which='minor', alpha=0.25)\n",
    "#ax2.grid(which='major', alpha=0.5)\n",
    "#ax1.minorticks_on()\n",
    "\n",
    "p = lines1 + lines2\n",
    "plt.legend(p, [level_name + ' dam level', level_name + ' pump status'],\n",
    "          bbox_to_anchor=(0., 1.02, 1., .102), loc=3, ncol=2, mode=\"expand\", borderaxespad=0.)\n",
    "#plt.legend(p,[p_.get_label() for subp in p for p_ in subp])\n",
    "\n",
    "#plt.legend(lines1, ('a','b'), loc='best')\n",
    "#plt.legend(lines2, ('c','d'), loc='best')\n",
    "\n",
    "fig.tight_layout()\n",
    "plt.show()\n",
    "fig.savefig('output/k10_' + level_name + '_2_level_and_status.png', bbox_inches='tight')\n",
    "plt.close('all')"
   ]
  },
  {
   "cell_type": "markdown",
   "metadata": {},
   "source": [
    "### Plot power"
   ]
  },
  {
   "cell_type": "code",
   "execution_count": null,
   "metadata": {
    "collapsed": true
   },
   "outputs": [],
   "source": [
    "resampled = pd.DataFrame()\n",
    "resampled[\"total_30_minute\"] = df.set_index('time_clean')['Pump system total power'].resample('30T').mean()\n",
    "resampled.to_csv('output/K10_resampled_power_2_factor.csv')\n",
    "\n",
    "fig, ax1 = plt.subplots(figsize=figure_size, dpi=1200)\n",
    "#fig.patch.set_facecolor('grey')\n",
    "\n",
    "x = resampled.index\n",
    "y = resampled['total_30_minute']\n",
    "\n",
    "ax1.plot(x,y, drawstyle='steps-post', label='Power (resampled, step plot)', zorder=3)\n",
    "ax1.set_xlabel('Time of day')\n",
    "ax1.set_ylabel('Power consumption (kW)')\n",
    "#ax1.set_ylim([0, 4000])\n",
    "\n",
    "ax1.axvspan('1970-01-01 00:00:00','1970-01-01 05:59:59', alpha=.25, color=colour_op, zorder=0)\n",
    "ax1.axvspan('1970-01-01 06:00:00','1970-01-01 06:59:59', alpha=.25, color=colour_s, zorder=0)\n",
    "ax1.axvspan('1970-01-01 07:00:00','1970-01-01 09:59:59', alpha=.25, color=colour_p, zorder=0)\n",
    "ax1.axvspan('1970-01-01 10:00:00','1970-01-01 17:59:59', alpha=.25, color=colour_s, zorder=0)\n",
    "ax1.axvspan('1970-01-01 18:00:00','1970-01-01 19:59:59', alpha=.25, color=colour_p, zorder=0)\n",
    "ax1.axvspan('1970-01-01 20:00:00','1970-01-01 21:59:59', alpha=.25, color=colour_s, zorder=0)\n",
    "ax1.axvspan('1970-01-01 22:00:00','1970-01-01 23:59:59', alpha=.25, color=colour_op, zorder=0)\n",
    "\n",
    "ax1.xaxis.set_major_locator(mdates.HourLocator())\n",
    "ax1.xaxis.set_minor_locator(mdates.MinuteLocator(byminute=30))\n",
    "ax1.xaxis.set_major_formatter(mdates.DateFormatter('%H:%M'))\n",
    "fig.autofmt_xdate(rotation=90)\n",
    "ax1.set_xlim((min(x),max(x)))\n",
    "\n",
    "ax1.grid(which='major', alpha=0.5)\n",
    "#ax1.grid(which='minor', alpha=0.25)\n",
    "\n",
    "plt.legend(bbox_to_anchor=(0., 1.02, 1., .102), loc=3, ncol=2, mode=\"expand\", borderaxespad=0.)\n",
    "\n",
    "fig.tight_layout()\n",
    "plt.show()\n",
    "fig.savefig('output/k10_2_power_resampled.png', bbox_inches='tight')\n",
    "plt.close('all')"
   ]
  },
  {
   "cell_type": "markdown",
   "metadata": {},
   "source": [
    "## n-factor"
   ]
  },
  {
   "cell_type": "code",
   "execution_count": null,
   "metadata": {
    "collapsed": true
   },
   "outputs": [],
   "source": [
    "df = pd.read_csv('..\\..\\simulations\\K10\\output\\K10_simulation_data_export_n-factor.csv.gz')\n",
    "df['time_clean'] = pd.to_datetime(df['seconds'], unit='s')\n",
    "df.head(5)"
   ]
  },
  {
   "cell_type": "markdown",
   "metadata": {},
   "source": [
    "### Plot dam level and status"
   ]
  },
  {
   "cell_type": "code",
   "execution_count": null,
   "metadata": {
    "collapsed": true
   },
   "outputs": [],
   "source": [
    "level_name = '27L'\n",
    "\n",
    "x = df['time_clean']\n",
    "\n",
    "fig, ax1 = plt.subplots(figsize=figure_size, dpi=1200)\n",
    "#fig.patch.set_facecolor('grey')\n",
    "\n",
    "lines1 = ax1.plot(x, df[level_name + ' Level'])\n",
    "\n",
    "ax1.axvspan('1970-01-01 00:00:00','1970-01-01 05:59:59', alpha=.25, color=colour_op, zorder=0)\n",
    "ax1.axvspan('1970-01-01 06:00:00','1970-01-01 06:59:59', alpha=.25, color=colour_s, zorder=0)\n",
    "ax1.axvspan('1970-01-01 07:00:00','1970-01-01 09:59:59', alpha=.25, color=colour_p, zorder=0)\n",
    "ax1.axvspan('1970-01-01 10:00:00','1970-01-01 17:59:59', alpha=.25, color=colour_s, zorder=0)\n",
    "ax1.axvspan('1970-01-01 18:00:00','1970-01-01 19:59:59', alpha=.25, color=colour_p, zorder=0)\n",
    "ax1.axvspan('1970-01-01 20:00:00','1970-01-01 21:59:59', alpha=.25, color=colour_s, zorder=0)\n",
    "ax1.axvspan('1970-01-01 22:00:00','1970-01-01 23:59:59', alpha=.25, color=colour_op, zorder=0)\n",
    "\n",
    "ax2 = ax1.twinx()\n",
    "lines2 = ax2.plot(x, df[level_name + ' Status'], '--')\n",
    "\n",
    "ax1.set_xlabel('Time of day')\n",
    "ax1.set_ylabel('Dam level (%)')\n",
    "ax1.set_ylim([0, 100])\n",
    "ax2.set_ylabel('Number of pumps running')\n",
    "ax2.yaxis.set_major_locator(MaxNLocator(integer=True))\n",
    "ax1.yaxis.set_ticks(np.arange(0, 101, 10))\n",
    "ax1.xaxis.set_major_locator(mdates.HourLocator())\n",
    "ax1.xaxis.set_minor_locator(mdates.MinuteLocator(byminute=30))\n",
    "ax1.xaxis.set_major_formatter(mdates.DateFormatter('%H:%M'))\n",
    "fig.autofmt_xdate(rotation=90)\n",
    "ax1.set_xlim((min(x), max(x)))\n",
    "\n",
    "ax1.grid(which='major', alpha=0.5)\n",
    "#ax1.grid(which='minor', alpha=0.25)\n",
    "#ax2.grid(which='major', alpha=0.5)\n",
    "#ax1.minorticks_on()\n",
    "\n",
    "p = lines1 + lines2\n",
    "plt.legend(p, [level_name + ' dam level', level_name + ' pump status'],\n",
    "          bbox_to_anchor=(0., 1.02, 1., .102), loc=3, ncol=2, mode=\"expand\", borderaxespad=0.)\n",
    "#plt.legend(p,[p_.get_label() for subp in p for p_ in subp])\n",
    "\n",
    "#plt.legend(lines1, ('a','b'), loc='best')\n",
    "#plt.legend(lines2, ('c','d'), loc='best')\n",
    "\n",
    "fig.tight_layout()\n",
    "plt.show()\n",
    "fig.savefig('output/k10_' + level_name + '_n_level_and_status.png', bbox_inches='tight')\n",
    "plt.close('all')"
   ]
  },
  {
   "cell_type": "code",
   "execution_count": null,
   "metadata": {
    "collapsed": true
   },
   "outputs": [],
   "source": [
    "level_name = '12L'\n",
    "\n",
    "x = df['time_clean']\n",
    "\n",
    "fig, ax1 = plt.subplots(figsize=figure_size, dpi=1200)\n",
    "#fig.patch.set_facecolor('grey')\n",
    "\n",
    "lines1 = ax1.plot(x, df[level_name + ' Level'])\n",
    "\n",
    "ax1.axvspan('1970-01-01 00:00:00','1970-01-01 05:59:59', alpha=.25, color=colour_op, zorder=0)\n",
    "ax1.axvspan('1970-01-01 06:00:00','1970-01-01 06:59:59', alpha=.25, color=colour_s, zorder=0)\n",
    "ax1.axvspan('1970-01-01 07:00:00','1970-01-01 09:59:59', alpha=.25, color=colour_p, zorder=0)\n",
    "ax1.axvspan('1970-01-01 10:00:00','1970-01-01 17:59:59', alpha=.25, color=colour_s, zorder=0)\n",
    "ax1.axvspan('1970-01-01 18:00:00','1970-01-01 19:59:59', alpha=.25, color=colour_p, zorder=0)\n",
    "ax1.axvspan('1970-01-01 20:00:00','1970-01-01 21:59:59', alpha=.25, color=colour_s, zorder=0)\n",
    "ax1.axvspan('1970-01-01 22:00:00','1970-01-01 23:59:59', alpha=.25, color=colour_op, zorder=0)\n",
    "\n",
    "ax2 = ax1.twinx()\n",
    "lines2 = ax2.plot(x, df[level_name + ' Status'], '--')\n",
    "\n",
    "ax1.set_xlabel('Time of day')\n",
    "ax1.set_ylabel('Dam level (%)')\n",
    "ax1.set_ylim([0, 100])\n",
    "ax2.set_ylabel('Number of pumps running')\n",
    "ax2.yaxis.set_major_locator(MaxNLocator(integer=True))\n",
    "ax1.yaxis.set_ticks(np.arange(0, 101, 10))\n",
    "ax1.xaxis.set_major_locator(mdates.HourLocator())\n",
    "ax1.xaxis.set_minor_locator(mdates.MinuteLocator(byminute=30))\n",
    "ax1.xaxis.set_major_formatter(mdates.DateFormatter('%H:%M'))\n",
    "fig.autofmt_xdate(rotation=90)\n",
    "ax1.set_xlim((min(x), max(x)))\n",
    "\n",
    "ax1.grid(which='major', alpha=0.5)\n",
    "#ax1.grid(which='minor', alpha=0.25)\n",
    "#ax2.grid(which='major', alpha=0.5)\n",
    "#ax1.minorticks_on()\n",
    "\n",
    "p = lines1 + lines2\n",
    "plt.legend(p, [level_name + ' dam level', level_name + ' pump status'],\n",
    "          bbox_to_anchor=(0., 1.02, 1., .102), loc=3, ncol=2, mode=\"expand\", borderaxespad=0.)\n",
    "#plt.legend(p,[p_.get_label() for subp in p for p_ in subp])\n",
    "\n",
    "#plt.legend(lines1, ('a','b'), loc='best')\n",
    "#plt.legend(lines2, ('c','d'), loc='best')\n",
    "\n",
    "fig.tight_layout()\n",
    "plt.show()\n",
    "fig.savefig('output/k10_' + level_name + '_n_level_and_status.png', bbox_inches='tight')\n",
    "plt.close('all')"
   ]
  },
  {
   "cell_type": "markdown",
   "metadata": {},
   "source": [
    "### Plot power"
   ]
  },
  {
   "cell_type": "code",
   "execution_count": null,
   "metadata": {
    "collapsed": true
   },
   "outputs": [],
   "source": [
    "resampled = pd.DataFrame()\n",
    "resampled[\"total_30_minute\"] = df.set_index('time_clean')['Pump system total power'].resample('30T').mean()\n",
    "resampled.to_csv('output/K10_resampled_power_n_factor.csv')\n",
    "\n",
    "fig, ax1 = plt.subplots(figsize=figure_size, dpi=1200)\n",
    "#fig.patch.set_facecolor('grey')\n",
    "\n",
    "x = resampled.index\n",
    "y = resampled['total_30_minute']\n",
    "\n",
    "ax1.plot(x,y, drawstyle='steps-post', label='Power (resampled, step plot)', zorder=3)\n",
    "ax1.set_xlabel('Time of day')\n",
    "ax1.set_ylabel('Power consumption (kW)')\n",
    "#ax1.set_ylim([0, 4000])\n",
    "\n",
    "ax1.axvspan('1970-01-01 00:00:00','1970-01-01 05:59:59', alpha=.25, color=colour_op, zorder=0)\n",
    "ax1.axvspan('1970-01-01 06:00:00','1970-01-01 06:59:59', alpha=.25, color=colour_s, zorder=0)\n",
    "ax1.axvspan('1970-01-01 07:00:00','1970-01-01 09:59:59', alpha=.25, color=colour_p, zorder=0)\n",
    "ax1.axvspan('1970-01-01 10:00:00','1970-01-01 17:59:59', alpha=.25, color=colour_s, zorder=0)\n",
    "ax1.axvspan('1970-01-01 18:00:00','1970-01-01 19:59:59', alpha=.25, color=colour_p, zorder=0)\n",
    "ax1.axvspan('1970-01-01 20:00:00','1970-01-01 21:59:59', alpha=.25, color=colour_s, zorder=0)\n",
    "ax1.axvspan('1970-01-01 22:00:00','1970-01-01 23:59:59', alpha=.25, color=colour_op, zorder=0)\n",
    "\n",
    "ax1.xaxis.set_major_locator(mdates.HourLocator())\n",
    "ax1.xaxis.set_minor_locator(mdates.MinuteLocator(byminute=30))\n",
    "ax1.xaxis.set_major_formatter(mdates.DateFormatter('%H:%M'))\n",
    "fig.autofmt_xdate(rotation=90)\n",
    "ax1.set_xlim((min(x),max(x)))\n",
    "\n",
    "ax1.grid(which='major', alpha=0.5)\n",
    "#ax1.grid(which='minor', alpha=0.25)\n",
    "\n",
    "plt.legend(bbox_to_anchor=(0., 1.02, 1., .102), loc=3, ncol=2, mode=\"expand\", borderaxespad=0.)\n",
    "\n",
    "fig.tight_layout()\n",
    "plt.show()\n",
    "fig.savefig('output/k10_n_power_resampled.png', bbox_inches='tight')\n",
    "plt.close('all')"
   ]
  },
  {
   "cell_type": "markdown",
   "metadata": {
    "collapsed": true
   },
   "source": [
    "# Scoring graph"
   ]
  },
  {
   "cell_type": "code",
   "execution_count": null,
   "metadata": {
    "collapsed": true
   },
   "outputs": [],
   "source": [
    "scores = pd.read_csv('scoring_results.csv').set_index('Score')\n",
    "scores"
   ]
  },
  {
   "cell_type": "code",
   "execution_count": null,
   "metadata": {
    "collapsed": true
   },
   "outputs": [],
   "source": [
    "sns.set()\n",
    "\n",
    "score_sim = (scores['1-factor']['Simulation'], scores['2-factor']['Simulation'], scores['n-factor']['Simulation'])\n",
    "score_feat = (scores['1-factor']['Feature'], scores['2-factor']['Feature'], scores['n-factor']['Feature'])\n",
    "ind = np.arange(len(score_sim))    # the x locations for the groups\n",
    "width = 0.5       # the width of the bars: can also be len(x) sequence\n",
    "\n",
    "plt.figure(figsize=figure_size)\n",
    "\n",
    "p1 = plt.bar(ind, score_sim, width)\n",
    "p2 = plt.bar(ind, score_feat, width, bottom=score_sim)\n",
    "\n",
    "\n",
    "plt.ylabel('Scores')\n",
    "plt.xlabel(r'$x$-factored simulation')\n",
    "    #'x-factored simulation')\n",
    "plt.xticks(ind, ('1-factor', '2-factor', 'n-factor'))\n",
    "#plt.yticks(np.arange(0, 101, 10))\n",
    "plt.gca().yaxis.set_major_locator(plt.NullLocator())\n",
    "#plt.legend((p1[0], p2[0]), ('Simulation score', 'Feature score'), loc='best')\n",
    "plt.legend((p1[0], p2[0]), ('Simulation score', 'Feature score'), bbox_to_anchor=(0., 1.02, 1., .102), loc=3, ncol=2, mode=\"expand\", borderaxespad=0.)\n",
    "\n",
    "for r1, r2 in zip(p1, p2):\n",
    "    h1 = r1.get_height()\n",
    "    h2 = r2.get_height()\n",
    "    plt.text(r1.get_x() + r1.get_width() / 2., h1 / 2., \"%.2f\" % h1, ha=\"center\", va=\"center\", color='white')\n",
    "    plt.text(r2.get_x() + r2.get_width() / 2., h1 + h2 / 2., \"%.2f\" % h2, ha=\"center\", va=\"center\", color='white')\n",
    "    plt.text(r2.get_x() + r2.get_width() / 2., h1 + h2 + 1.5, \"%.2f\" % (h1 + h2),\n",
    "         ha=\"center\", va=\"center\", color='black', weight='bold')\n",
    "\n",
    "\n",
    "plt.grid(False)\n",
    "    \n",
    "plt.tight_layout()\n",
    "plt.savefig('output/k10_final_scores.png', bbox_inches='tight', figsize=figure_size, dpi=1200)"
   ]
  }
 ],
 "metadata": {
  "kernelspec": {
   "display_name": "Python 3",
   "language": "python",
   "name": "python3"
  },
  "language_info": {
   "codemirror_mode": {
    "name": "ipython",
    "version": 3
   },
   "file_extension": ".py",
   "mimetype": "text/x-python",
   "name": "python",
   "nbconvert_exporter": "python",
   "pygments_lexer": "ipython3",
   "version": "3.6.2"
  }
 },
 "nbformat": 4,
 "nbformat_minor": 2
}
